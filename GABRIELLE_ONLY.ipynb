{
 "cells": [
  {
   "cell_type": "code",
   "execution_count": 25,
   "metadata": {},
   "outputs": [],
   "source": [
    "from dotenv import load_dotenv\n",
    "from portia.cli import CLIExecutionHooks\n",
    "from portia import *\n",
    "import requests\n",
    "import xml.etree.ElementTree as ET\n",
    "from pydantic import BaseModel, Field\n",
    "from typing import Generic, TypeVar, List, ClassVar, Dict\n",
    "from notion_client import Client\n",
    "import os\n",
    "import openai\n",
    "import json\n",
    "import re\n",
    "load_dotenv(override=True)\n",
    "\n",
    "# Fetch the Notion API key\n",
    "notion_api_key = os.getenv(\"NOTION_API_KEY\")\n",
    "notion_parent_id = os.getenv(\"NOTION_PARENT_ID\")\n",
    "\n",
    "youtube_api_key = os.getenv(\"GOOGLE_API_KEY\")\n",
    "\n",
    "# Initialize the Notion client\n",
    "notion = Client(auth=notion_api_key)\n"
   ]
  },
  {
   "cell_type": "code",
   "execution_count": 26,
   "metadata": {},
   "outputs": [],
   "source": [
    "topics = [{\"topic\": \"SIRD Modelling\", \"page_id\": \"1d36ccbb-ecba-8106-9696-c0f516f75632\", \"content\": \"[[Introduction]]\\nSIRD modeling is a mathematical framework used to understand the spread of infectious diseases within a population. It extends the basic SIR model by incorporating a compartment for deceased individuals. This model helps public health officials predict the course of an epidemic and evaluate the impact of interventions.\\n\\n[[Key Definitions]]\\n- **Susceptible (S)**: The portion of the population that is not yet infected with the disease but is at risk of becoming infected.\\n- **Infectious (I)**: The group of individuals who have been infected and are capable of spreading the disease to susceptible individuals.\\n- **Recovered (R)**: Individuals who have recovered from the disease and are assumed to have gained immunity, thus no longer susceptible.\\n- **Deceased (D)**: Individuals who have died from the disease, representing the fatality aspect of the epidemic.\\n\\n[[Relevant Formulas]]\\n- **Rate of Change of Susceptible Individuals**\\n\\\\( \\\\frac{dS}{dt} = -\\\\beta \\\\frac{SI}{N} \\\\)\\n\\n- **Rate of Change of Infectious Individuals**\\n\\\\( \\\\frac{dI}{dt} = \\\\beta \\\\frac{SI}{N} - \\\\gamma I - \\\\mu I \\\\)\\n\\n- **Rate of Change of Recovered Individuals**\\n\\\\( \\\\frac{dR}{dt} = \\\\gamma I \\\\)\\n\\n- **Rate of Change of Deceased Individuals**\\n\\\\( \\\\frac{dD}{dt} = \\\\mu I \\\\)\\n\\nWhere \\\\( \\\\beta \\\\) is the transmission rate, \\\\( \\\\gamma \\\\) is the recovery rate, \\\\( \\\\mu \\\\) is the mortality rate, and \\\\( N \\\\) is the total population.\\n\\n[[Examples]]\\n1. **Influenza Outbreak**: Consider a city experiencing an influenza outbreak. The SIRD model can help predict how quickly the disease will spread, how many people will recover, and the potential fatalities. By adjusting parameters like the transmission rate \\\\( \\\\beta \\\\), public health officials can simulate the effects of interventions such as vaccination or social distancing.\\n\\n2. **COVID-19 Pandemic**: During the COVID-19 pandemic, SIRD models were used extensively to forecast the progression of the virus. By inputting real-time data, these models helped governments decide when to implement lockdowns or increase healthcare resources, aiming to minimize the number of infections and deaths.\\n\\n[[Reflective Questions]]\\n1. How does the inclusion of the deceased compartment in the SIRD model provide a more comprehensive view of an epidemic compared to the SIR model?\\n2. What factors could influence the transmission rate \\\\( \\\\beta \\\\) in a real-world scenario?\\n3. Why is it important to consider the recovery rate \\\\( \\\\gamma \\\\) when modeling infectious diseases?\\n4. How can public health interventions alter the parameters of the SIRD model to control an outbreak?\\n5. In what ways might the assumptions of the SIRD model limit its applicability to real-world epidemics?\"}, {\"topic\": \"Ordinary Differential Equations (ODEs)\", \"page_id\": \"1d36ccbb-ecba-81ed-97bb-f19b23dd392b\", \"content\": \"[[Introduction]]\\nOrdinary Differential Equations (ODEs) are equations involving functions and their derivatives. They are fundamental in describing various physical phenomena, such as motion, growth, and decay processes. Understanding ODEs is crucial for modeling and solving problems in engineering, physics, biology, and economics.\\n\\n[[Key Definitions]]\\n- **Ordinary Differential Equation (ODE):** An equation involving a function of one independent variable and its derivatives.\\n- **Order of an ODE:** The highest derivative present in the equation. For example, in \\\\( \\\\frac{d^2y}{dx^2} + 3\\\\frac{dy}{dx} + 2y = 0 \\\\), the order is 2.\\n- **Linear ODE:** An ODE in which the dependent variable and its derivatives appear linearly. For example, \\\\( \\\\frac{dy}{dx} + p(x)y = g(x) \\\\) is a linear first-order ODE.\\n\\n[[Relevant Formulas]]\\n**First-Order Linear ODE:**\\n\\\\( \\\\frac{dy}{dx} + p(x)y = g(x) \\\\)\\n\\n**Second-Order Linear Homogeneous ODE:**\\n\\\\( a\\\\frac{d^2y}{dx^2} + b\\\\frac{dy}{dx} + cy = 0 \\\\)\\n\\n**General Solution of First-Order Linear ODE:**\\n\\\\( y(x) = e^{-\\\\int p(x) \\\\, dx} \\\\left( \\\\int e^{\\\\int p(x) \\\\, dx} g(x) \\\\, dx + C \\\\right) \\\\)\\n\\n[[Examples]]\\n1. **Population Growth:** The rate of change of a population \\\\( P \\\\) over time \\\\( t \\\\) can be modeled by the ODE \\\\( \\\\frac{dP}{dt} = rP \\\\), where \\\\( r \\\\) is the growth rate. This represents exponential growth, common in unrestricted environments.\\n\\n2. **Cooling of an Object:** Newton's Law of Cooling states that the rate of change of temperature \\\\( T \\\\) of an object is proportional to the difference between its temperature and the ambient temperature \\\\( T_a \\\\). This can be expressed as \\\\( \\\\frac{dT}{dt} = -k(T - T_a) \\\\), where \\\\( k \\\\) is a positive constant.\\n\\n[[Reflective Questions]]\\n1. What distinguishes a linear ODE from a nonlinear ODE?\\n2. How does the order of an ODE affect the complexity of its solutions?\\n3. Why is it important to understand the initial conditions when solving an ODE?\\n4. How can ODEs be used to model real-world phenomena such as electrical circuits or mechanical vibrations?\\n5. What methods can be used to solve a second-order linear homogeneous ODE?\"}, {\"topic\": \"Least Squares Regression\", \"page_id\": \"1d36ccbb-ecba-81d2-ba42-dd654dab265b\", \"content\": \"[[Introduction]]\\nLeast squares regression is a statistical method used to determine the best-fitting line through a set of data points by minimizing the sum of the squares of the vertical distances of the points from the line. This technique is widely used in predictive modeling and data analysis to understand relationships between variables.\\n\\n[[Key Definitions]]\\n- **Least Squares Method**: A mathematical approach used to find the line of best fit by minimizing the sum of the squares of the residuals (the differences between observed and predicted values).\\n- **Residual**: The difference between an observed value and the value predicted by a model. In the context of least squares, it is the vertical distance from a data point to the regression line.\\n- **Regression Line**: A line that best describes the relationship between the independent variable \\\\( x \\\\) and the dependent variable \\\\( y \\\\) in a dataset.\\n\\n[[Relevant Formulas]]\\n- **Equation of the Regression Line**\\n\\\\( y = mx + b \\\\)\\nwhere \\\\( m \\\\) is the slope and \\\\( b \\\\) is the y-intercept.\\n\\n- **Slope of the Regression Line**\\n\\\\( m = \\\\frac{n(\\\\sum xy) - (\\\\sum x)(\\\\sum y)}{n(\\\\sum x^2) - (\\\\sum x)^2} \\\\)\\n\\n- **Y-intercept of the Regression Line**\\n\\\\( b = \\\\frac{(\\\\sum y)(\\\\sum x^2) - (\\\\sum x)(\\\\sum xy)}{n(\\\\sum x^2) - (\\\\sum x)^2} \\\\)\\n\\n[[Examples]]\\n- **Example 1: Predicting House Prices**\\nSuppose a real estate analyst wants to predict house prices based on square footage. By collecting data on various houses, the analyst can use least squares regression to find the line of best fit, which will help predict the price of a house given its size.\\n\\n- **Example 2: Estimating Fuel Efficiency**\\nAn automotive engineer is interested in understanding the relationship between a car's weight and its fuel efficiency. By plotting the weight of several cars against their miles per gallon (MPG), the engineer can apply least squares regression to estimate how changes in weight might affect fuel efficiency.\\n\\n[[Reflective Questions]]\\n1. What are the main assumptions behind the least squares regression method?\\n2. How does the least squares method minimize the error in predictions?\\n3. In what scenarios might least squares regression not be the best method to use?\\n4. How can outliers affect the results of a least squares regression analysis?\\n5. What is the significance of the slope and intercept in the context of a regression line?\"}, {\"topic\": \"Paper Summary\", \"page_id\": \"1d36ccbb-ecba-812d-ba68-e08bea7f7274\", \"content\": \"summary of paper\"}]"
   ]
  },
  {
   "cell_type": "code",
   "execution_count": 27,
   "metadata": {},
   "outputs": [],
   "source": [
    "class QuizToolSchema(BaseModel): \n",
    "\n",
    "    \"\"\"Input Schema for QuizTool.\"\"\"\n",
    "    topics: List[Dict[str, str]] = Field(description=\"The list of topic pages, their IDs, and their page contents.\")\n",
    "\n",
    "class QuizTool(Tool[None]):\n",
    "\n",
    "    \"\"\" Quiz Tool for creating quizzes for topics and creating separate pages for the quizzes. \n",
    "        It will base the quizzes on the lessons and topics provided.\n",
    "    \"\"\"\n",
    "\n",
    "    id: ClassVar[str] = \"Quiz_tool\"\n",
    "    name: ClassVar[str] = \"Quiz Tool\"\n",
    "    description: ClassVar[str] = \"A tool that creates quizzes for topics and creates separate pages for the quizzes.\" \n",
    "    args_schema = QuizToolSchema\n",
    "    output_schema: ClassVar[tuple[str, str]] = (\n",
    "        \"str\",\n",
    "        \"Confirmation of Quiz Creation\"\n",
    "    )\n",
    "\n",
    "\n",
    "    def run(self, context: ToolRunContext, topics: List[Dict[str, str]]) -> str: \n",
    "        pass\n",
    "\n",
    "    def create_quiz(self, topic: dict) -> List[Dict[any, str]]: \n",
    "        \"\"\"Creates a quiz for the given topic and returns the quiz URL.\"\"\"\n",
    "        client = openai.OpenAI(api_key=os.getenv(\"OPENAI_API_KEY\"))\n",
    "\n",
    "        quiz = {}\n",
    "        quiz[\"topic\"] = topic[\"topic\"]\n",
    "\n",
    "        response = client.chat.completions.create(\n",
    "            model=\"gpt-4o\",\n",
    "            messages=[\n",
    "                {\"role\": \"system\", \n",
    "                 \"content\": (\n",
    "                        \"You are a tutor who creates quizzes for students on given lessons. \"\n",
    "                        \"All math must be written using inline LaTeX formatted as \\\\( ... \\\\). \"\n",
    "                        \"Do NOT use display math like \\\\[...\\\\], $$...$$, or {{math: ...}}. \"\n",
    "                        \"Do NOT wrap equations in square brackets [ ... ] or parentheses like (\\\\( ... \\\\)). \"\n",
    "                        \"Only use valid LaTeX commands (e.g., \\\\frac, \\\\int, \\\\sum, \\\\left(, \\\\right)). \"\n",
    "                        \"Each Question should be a multiple choice question with 4 options. \"\n",
    "                        \"Output each question in the following format: \"\n",
    "                        \"{\\\"question\\\": \\\"Question text\\\", \\\"options\\\": [\\\"Option A\\\", \\\"Option B\\\", \\\"Option C\\\", \\\"Option D\\\"], \\\"answer\\\": \\\"Correct answer (one of A, B, C, D)\\\"}.\"\n",
    "                            )},\n",
    "                {\"role\": \"user\", \"content\": (\n",
    "                    f\"Write a comprehensive multiple choice quiz on this lesson: {topic['content']} on this topic: {topic['topic']}.\\n\"\n",
    "                )}\n",
    "            ],\n",
    "            temperature=0.5\n",
    "        )\n",
    "        \n",
    "        data = response.choices[0].message.content\n",
    "        pattern = r'\\{.*?\"question\":.*?\"options\":\\s*\\[.*?\\].*?\"answer\":\\s*\".*?\"\\}'\n",
    "        # Find all JSON-like strings\n",
    "        matches = re.findall(pattern, data, re.DOTALL) \n",
    "        questions = [json.loads(match) for match in matches]\n",
    "         \n",
    "        if response.choices and response.choices[0].message.content:\n",
    "            quiz = response.choices[0].message.content\n",
    "        else:\n",
    "            quiz = \"Failed to generate questions.\"\n",
    "\n",
    "        for q in quiz:\n",
    "            print(f\"Q: {q['question']}\")\n",
    "            for i, opt in enumerate(q['options']):\n",
    "                print(f\"  {chr(65+i)}. {opt}\")\n",
    "            print(f\"Answer: {q['answer']}\")\n",
    "        \n",
    "        return quiz"
   ]
  },
  {
   "cell_type": "code",
   "execution_count": 22,
   "metadata": {},
   "outputs": [
    {
     "name": "stdout",
     "output_type": "stream",
     "text": [
      "{\"question\": \"What does the 'D' in the SIRD model stand for?\", \"options\": [\"Susceptible\", \"Deceased\", \"Infectious\", \"Recovered\"], \"answer\": \"B\"}\n",
      "\n",
      "{\"question\": \"Which equation represents the rate of change of infectious individuals in the SIRD model?\", \"options\": [\"\\( \\frac{dS}{dt} = -\\beta \\frac{SI}{N} \\)\", \"\\( \\frac{dI}{dt} = \\beta \\frac{SI}{N} - \\gamma I - \\mu I \\)\", \"\\( \\frac{dR}{dt} = \\gamma I \\)\", \"\\( \\frac{dD}{dt} = \\mu I \\)\"], \"answer\": \"B\"}\n",
      "\n",
      "{\"question\": \"In the context of the SIRD model, what does the parameter \\( \\beta \\) represent?\", \"options\": [\"Recovery rate\", \"Mortality rate\", \"Transmission rate\", \"Total population\"], \"answer\": \"C\"}\n",
      "\n",
      "{\"question\": \"Why is the SIRD model considered more comprehensive than the SIR model?\", \"options\": [\"It includes a compartment for vaccinated individuals.\", \"It includes a compartment for deceased individuals.\", \"It considers environmental factors.\", \"It models the economic impact of an epidemic.\"], \"answer\": \"B\"}\n",
      "\n",
      "{\"question\": \"How can public health interventions like vaccination affect the SIRD model parameters?\", \"options\": [\"Increase \\( \\beta \\)\", \"Decrease \\( \\gamma \\)\", \"Decrease \\( \\beta \\)\", \"Increase \\( \\mu \\)\"], \"answer\": \"C\"}\n",
      "\n",
      "{\"question\": \"Which factor is NOT directly represented in the SIRD model equations?\", \"options\": [\"Transmission rate\", \"Recovery rate\", \"Population density\", \"Mortality rate\"], \"answer\": \"C\"}\n",
      "\n",
      "{\"question\": \"In the SIRD model, what does the equation \\( \\frac{dR}{dt} = \\gamma I \\) describe?\", \"options\": [\"The rate of change of susceptible individuals\", \"The rate of change of infectious individuals\", \"The rate of change of recovered individuals\", \"The rate of change of deceased individuals\"], \"answer\": \"C\"}\n",
      "\n",
      "{\"question\": \"What real-world factor could influence the transmission rate \\( \\beta \\) in the SIRD model?\", \"options\": [\"Vaccination campaigns\", \"Natural disasters\", \"Economic policies\", \"Climate change\"], \"answer\": \"A\"}\n",
      "\n",
      "{\"question\": \"What assumption of the SIRD model might limit its applicability to real-world epidemics?\", \"options\": [\"Constant population size\", \"Variable transmission rates\", \"Inclusion of deceased individuals\", \"Dynamic recovery rates\"], \"answer\": \"A\"}\n",
      "\n",
      "{\"question\": \"During an outbreak, if the mortality rate \\( \\mu \\) increases, what is the expected impact on the SIRD model?\", \"options\": [\"Decrease in \\( \\frac{dS}{dt} \\)\", \"Increase in \\( \\frac{dI}{dt} \\)\", \"Increase in \\( \\frac{dD}{dt} \\)\", \"Decrease in \\( \\frac{dR}{dt} \\)\"], \"answer\": \"C\"}\n"
     ]
    },
    {
     "ename": "TypeError",
     "evalue": "string indices must be integers, not 'str'",
     "output_type": "error",
     "traceback": [
      "\u001b[31m---------------------------------------------------------------------------\u001b[39m",
      "\u001b[31mTypeError\u001b[39m                                 Traceback (most recent call last)",
      "\u001b[36mCell\u001b[39m\u001b[36m \u001b[39m\u001b[32mIn[22]\u001b[39m\u001b[32m, line 2\u001b[39m\n\u001b[32m      1\u001b[39m tool = QuizTool()\n\u001b[32m----> \u001b[39m\u001b[32m2\u001b[39m \u001b[43mtool\u001b[49m\u001b[43m.\u001b[49m\u001b[43mcreate_quiz\u001b[49m\u001b[43m(\u001b[49m\u001b[43mtopics\u001b[49m\u001b[43m[\u001b[49m\u001b[32;43m0\u001b[39;49m\u001b[43m]\u001b[49m\u001b[43m)\u001b[49m\n",
      "\u001b[36mCell\u001b[39m\u001b[36m \u001b[39m\u001b[32mIn[21]\u001b[39m\u001b[32m, line 59\u001b[39m, in \u001b[36mQuizTool.create_quiz\u001b[39m\u001b[34m(self, topic)\u001b[39m\n\u001b[32m     56\u001b[39m     quiz = \u001b[33m\"\u001b[39m\u001b[33mFailed to generate questions.\u001b[39m\u001b[33m\"\u001b[39m\n\u001b[32m     58\u001b[39m \u001b[38;5;28;01mfor\u001b[39;00m q \u001b[38;5;129;01min\u001b[39;00m quiz:\n\u001b[32m---> \u001b[39m\u001b[32m59\u001b[39m     \u001b[38;5;28mprint\u001b[39m(\u001b[33mf\u001b[39m\u001b[33m\"\u001b[39m\u001b[33mQ: \u001b[39m\u001b[38;5;132;01m{\u001b[39;00m\u001b[43mq\u001b[49m\u001b[43m[\u001b[49m\u001b[33;43m'\u001b[39;49m\u001b[33;43mquestion\u001b[39;49m\u001b[33;43m'\u001b[39;49m\u001b[43m]\u001b[49m\u001b[38;5;132;01m}\u001b[39;00m\u001b[33m\"\u001b[39m)\n\u001b[32m     60\u001b[39m     \u001b[38;5;28;01mfor\u001b[39;00m i, opt \u001b[38;5;129;01min\u001b[39;00m \u001b[38;5;28menumerate\u001b[39m(q[\u001b[33m'\u001b[39m\u001b[33moptions\u001b[39m\u001b[33m'\u001b[39m]):\n\u001b[32m     61\u001b[39m         \u001b[38;5;28mprint\u001b[39m(\u001b[33mf\u001b[39m\u001b[33m\"\u001b[39m\u001b[33m  \u001b[39m\u001b[38;5;132;01m{\u001b[39;00m\u001b[38;5;28mchr\u001b[39m(\u001b[32m65\u001b[39m+i)\u001b[38;5;132;01m}\u001b[39;00m\u001b[33m. \u001b[39m\u001b[38;5;132;01m{\u001b[39;00mopt\u001b[38;5;132;01m}\u001b[39;00m\u001b[33m\"\u001b[39m)\n",
      "\u001b[31mTypeError\u001b[39m: string indices must be integers, not 'str'"
     ]
    }
   ],
   "source": [
    "tool = QuizTool()\n",
    "tool.create_quiz(topics[0])"
   ]
  }
 ],
 "metadata": {
  "kernelspec": {
   "display_name": "RA",
   "language": "python",
   "name": "python3"
  },
  "language_info": {
   "codemirror_mode": {
    "name": "ipython",
    "version": 3
   },
   "file_extension": ".py",
   "mimetype": "text/x-python",
   "name": "python",
   "nbconvert_exporter": "python",
   "pygments_lexer": "ipython3",
   "version": "3.11.11"
  }
 },
 "nbformat": 4,
 "nbformat_minor": 2
}
