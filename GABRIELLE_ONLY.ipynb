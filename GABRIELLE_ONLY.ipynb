{
 "cells": [
  {
   "cell_type": "code",
   "execution_count": 17,
   "metadata": {},
   "outputs": [],
   "source": [
    "from dotenv import load_dotenv\n",
    "from portia.cli import CLIExecutionHooks\n",
    "from portia import *\n",
    "import requests\n",
    "import xml.etree.ElementTree as ET\n",
    "from pydantic import BaseModel, Field\n",
    "from typing import Generic, TypeVar, List, ClassVar, Dict\n",
    "from notion_client import Client\n",
    "import os\n",
    "load_dotenv(override=True)\n",
    "\n",
    "# Fetch the Notion API key\n",
    "notion_api_key = os.getenv(\"NOTION_API_KEY\")\n",
    "notion_parent_id = os.getenv(\"NOTION_PARENT_ID\")\n",
    "\n",
    "youtube_api_key = os.getenv(\"GOOGLE_API_KEY\")\n",
    "\n",
    "# Initialize the Notion client\n",
    "notion = Client(auth=notion_api_key)\n"
   ]
  },
  {
   "cell_type": "code",
   "execution_count": 1,
   "metadata": {},
   "outputs": [
    {
     "ename": "NameError",
     "evalue": "name 'BaseModel' is not defined",
     "output_type": "error",
     "traceback": [
      "\u001b[31m---------------------------------------------------------------------------\u001b[39m",
      "\u001b[31mNameError\u001b[39m                                 Traceback (most recent call last)",
      "\u001b[36mCell\u001b[39m\u001b[36m \u001b[39m\u001b[32mIn[1]\u001b[39m\u001b[32m, line 1\u001b[39m\n\u001b[32m----> \u001b[39m\u001b[32m1\u001b[39m \u001b[38;5;28;01mclass\u001b[39;00m\u001b[38;5;250m \u001b[39m\u001b[34;01mQuizToolSchema\u001b[39;00m(\u001b[43mBaseModel\u001b[49m): \n\u001b[32m      3\u001b[39m \u001b[38;5;250m    \u001b[39m\u001b[33;03m\"\"\"Input Schema for QuizTool.\"\"\"\u001b[39;00m\n\u001b[32m      4\u001b[39m     topics: List[Dict[\u001b[38;5;28mstr\u001b[39m, \u001b[38;5;28mstr\u001b[39m]] = Field(description=\u001b[33m\"\u001b[39m\u001b[33mThe list of topic pages, their IDs, and their page contents.\u001b[39m\u001b[33m\"\u001b[39m)\n",
      "\u001b[31mNameError\u001b[39m: name 'BaseModel' is not defined"
     ]
    }
   ],
   "source": [
    "class QuizToolSchema(BaseModel): \n",
    "\n",
    "    \"\"\"Input Schema for QuizTool.\"\"\"\n",
    "    topics: List[Dict[str, str]] = Field(description=\"The list of topic pages, their IDs, and their page contents.\")\n",
    "\n",
    "class QuizTool(Tool[None]):\n",
    "\n",
    "    \"\"\" Quiz Tool for creating quizzes for topics and creating separate pages for the quizzes. \n",
    "        It will base the quizzes on the lessons and topics provided.\n",
    "    \"\"\"\n",
    "\n",
    "    id: ClassVar[str] = \"Quiz_tool\"\n",
    "    name: ClassVar[str] = \"Quiz Tool\"\n",
    "    description: ClassVar[str] = \"A tool that creates quizzes for topics and creates separate pages for the quizzes.\" \n",
    "    args_schema = QuizToolSchema\n",
    "    output_schema: ClassVar[tuple[str, str]] = (\n",
    "        \"str\",\n",
    "        \"Confirmation of Quiz Completion\"\n",
    "    )\n",
    "\n"
   ]
  }
 ],
 "metadata": {
  "kernelspec": {
   "display_name": "RA",
   "language": "python",
   "name": "python3"
  },
  "language_info": {
   "codemirror_mode": {
    "name": "ipython",
    "version": 3
   },
   "file_extension": ".py",
   "mimetype": "text/x-python",
   "name": "python",
   "nbconvert_exporter": "python",
   "pygments_lexer": "ipython3",
   "version": "3.11.11"
  }
 },
 "nbformat": 4,
 "nbformat_minor": 2
}
