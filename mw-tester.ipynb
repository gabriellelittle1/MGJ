{
 "cells": [
  {
   "cell_type": "code",
   "execution_count": null,
   "id": "a7e1cebf",
   "metadata": {},
   "outputs": [],
   "source": [
    "print(\"Input was:\", input_text)\n",
    "if option1:\n",
    "    print(\"Option 1 selected\")\n",
    "if option2:\n",
    "    print(\"Option 2 selected\")"
   ]
  }
 ],
 "metadata": {
  "kernelspec": {
   "display_name": "RA",
   "language": "python",
   "name": "python3"
  },
  "language_info": {
   "codemirror_mode": {
    "name": "ipython",
    "version": 3
   },
   "file_extension": ".py",
   "mimetype": "text/x-python",
   "name": "python",
   "nbconvert_exporter": "python",
   "pygments_lexer": "ipython3",
   "version": "3.11.11"
  }
 },
 "nbformat": 4,
 "nbformat_minor": 5
}
