{
 "cells": [
  {
   "cell_type": "code",
   "execution_count": 1,
   "metadata": {},
   "outputs": [
    {
     "name": "stdout",
     "output_type": "stream",
     "text": [
      "DownloadPaperSchema initialized\n",
      "papers: annotation=NoneType required=True description=\"A list of dicts, each with 'title', 'link', and 'summary'.\"\n"
     ]
    },
    {
     "data": {
      "text/plain": [
       "True"
      ]
     },
     "execution_count": 1,
     "metadata": {},
     "output_type": "execute_result"
    }
   ],
   "source": [
    "from dotenv import load_dotenv\n",
    "from portia.cli import CLIExecutionHooks\n",
    "from portia import *\n",
    "import requests\n",
    "import xml.etree.ElementTree as ET\n",
    "from pydantic import BaseModel, Field\n",
    "from typing import Generic, TypeVar, List\n",
    "\n",
    "from my_custom_tools.arXivTool import ArXivTool\n",
    "from my_custom_tools.DownloadTool import DownloadPaperTool\n",
    "from my_custom_tools.PDFReaderTool import PDFReaderTool\n",
    "\n",
    "load_dotenv(override=True)"
   ]
  },
  {
   "cell_type": "code",
   "execution_count": 2,
   "metadata": {},
   "outputs": [],
   "source": [
    "from my_custom_tools.registry import custom_tool_registry\n",
    "\n",
    "my_config = Config.from_default()\n",
    "complete_tool_registry = PortiaToolRegistry(my_config) + custom_tool_registry\n",
    "\n",
    "portia = Portia(config = my_config,\n",
    "                tools = complete_tool_registry,\n",
    "                execution_hooks=CLIExecutionHooks(),)"
   ]
  },
  {
   "cell_type": "code",
   "execution_count": 8,
   "metadata": {},
   "outputs": [
    {
     "name": "stdout",
     "output_type": "stream",
     "text": [
      "\u001b[32m2025-04-11 23:03:11.557\u001b[0m | \u001b[1mINFO\u001b[0m | \u001b[38;5;39mportia.portia\u001b[0m:\u001b[38;5;39mplan\u001b[0m:\u001b[38;5;39m197\u001b[0m - \u001b[1mRunning planning_agent for query - You are a research assistant running these tasks: \n",
      "                      - Find and download 1 paper on the topic of Using LLMs for Interior Design using the ArXivTool. \n",
      "                      - Run the PDFReaderTool to extract the full text from the pdfs in the local folder.\n",
      "                      - From the full text, extract the core mathematical and scientific concepts required \n",
      "                        to understand the paper. Focus only on generalizable topics that could be included \n",
      "                        in a learning pathway or curriculum—avoid content specific to the study's location, \n",
      "                        data, or outcomes. List only the overarching topics, with no explanations or extra text.\n",
      "\n",
      "                        Take into account these constraints: []\n",
      "                      \u001b[0m\n",
      "\u001b[32m2025-04-11 23:03:57.525\u001b[0m | \u001b[1mINFO\u001b[0m | \u001b[38;5;39mportia.portia\u001b[0m:\u001b[38;5;39mplan\u001b[0m:\u001b[38;5;39m222\u001b[0m - \u001b[1mPlan created with 4 steps\u001b[0m | {'plan': 'plan-e778cdd4-9f81-4d7d-848c-400a8a101716'}\n",
      "\n",
      "Here are the steps in the generated plan:\n",
      "{\n",
      "  \"task\": \"Search for one paper on the topic 'Using LLMs for Interior Design' using the ArxivTool. Use the exact topic string and request 1 result.\",\n",
      "  \"inputs\": [],\n",
      "  \"tool_id\": \"arxiv_tool\",\n",
      "  \"output\": \"$paper_result\",\n",
      "  \"condition\": null\n",
      "}\n",
      "{\n",
      "  \"task\": \"Download the paper obtained from the previous step using the DownloadTool. Use the paper information from the previous output to create a paper dictionary and download it.\",\n",
      "  \"inputs\": [\n",
      "    {\n",
      "      \"name\": \"$paper_result\",\n",
      "      \"description\": \"Paper details found by the ArxivTool\"\n",
      "    }\n",
      "  ],\n",
      "  \"tool_id\": \"download_tool\",\n",
      "  \"output\": \"$downloaded_paper\",\n",
      "  \"condition\": null\n",
      "}\n",
      "{\n",
      "  \"task\": \"Extract the full text from the PDFs in the local 'papers' folder using the PDFReaderTool. This will process all PDFs in the folder.\",\n",
      "  \"inputs\": [],\n",
      "  \"tool_id\": \"pdf_reader_tool\",\n",
      "  \"output\": \"$full_text\",\n",
      "  \"condition\": null\n",
      "}\n",
      "{\n",
      "  \"task\": \"From the full text obtained in the previous step, extract the core mathematical and scientific concepts necessary to understand the paper. Focus only on generalizable topics suitable for a learning pathway or curriculum, listing only the overarching topics without explanations or extra text.\",\n",
      "  \"inputs\": [\n",
      "    {\n",
      "      \"name\": \"$full_text\",\n",
      "      \"description\": \"The full text extracted from the PDFs in the 'papers' folder\"\n",
      "    }\n",
      "  ],\n",
      "  \"tool_id\": \"llm_tool\",\n",
      "  \"output\": \"$concepts\",\n",
      "  \"condition\": null\n",
      "}\n"
     ]
    },
    {
     "data": {
      "text/plain": [
       "[None, None, None, None]"
      ]
     },
     "execution_count": 8,
     "metadata": {},
     "output_type": "execute_result"
    }
   ],
   "source": [
    "constraints = []\n",
    "# topic = input(\"What topic are you interested in covering today?\")\n",
    "# number_of_papers = int(input(\"How many papers do you want to download?\"))\n",
    "topic = \"Using LLMs for Interior Design\"\n",
    "number_of_papers = 1\n",
    "\n",
    "# task = (\n",
    "#     lambda: f\"\"\"Please find and download {number_of_papers} paper{'s' * (number_of_papers > 1)}\n",
    "#             on the topic of {topic} using the ArXivTool. Then run the PDFReaderTool and \n",
    "#             summarize the content of the PDF files returned by the tool.\"\"\"\n",
    "# )\n",
    "task = (\n",
    "            lambda : f\"\"\"You are a research assistant running these tasks: \n",
    "                      - Find and download {number_of_papers} paper{'s' * (number_of_papers > 1)} on the topic of {topic} using the ArXivTool. \n",
    "                      - Run the PDFReaderTool to extract the full text from the pdfs in the local folder.\n",
    "                      - From the full text, extract the core mathematical and scientific concepts required \n",
    "                        to understand the paper. Focus only on generalizable topics that could be included \n",
    "                        in a learning pathway or curriculum—avoid content specific to the study's location, \n",
    "                        data, or outcomes. List only the overarching topics, with no explanations or extra text.\n",
    "                      \n",
    "                        Take into account these constraints: {constraints}\n",
    "                      \"\"\"\n",
    "        )\n",
    "# task = (\n",
    "#     lambda: f\"\"\"Please find and download {number_of_papers} paper{'s' * (number_of_papers > 1)}\n",
    "#             on the topic of {topic} using the ArXivTool.\"\"\"\n",
    "# )\n",
    "\n",
    "plan = portia.plan(task())\n",
    "print(\"\\nHere are the steps in the generated plan:\")\n",
    "[print(step.model_dump_json(indent=2)) for step in plan.steps]"
   ]
  },
  {
   "cell_type": "code",
   "execution_count": 9,
   "metadata": {},
   "outputs": [
    {
     "name": "stdout",
     "output_type": "stream",
     "text": [
      "\u001b[32m2025-04-11 23:04:45.975\u001b[0m | \u001b[1mINFO\u001b[0m | \u001b[38;5;39mportia.portia\u001b[0m:\u001b[38;5;39mplan\u001b[0m:\u001b[38;5;39m197\u001b[0m - \u001b[1mRunning planning_agent for query - You are a research assistant running these tasks: \n",
      "                      - Find and download 1 paper on the topic of Using LLMs for Interior Design using the ArXivTool. \n",
      "                      - Run the PDFReaderTool to extract the full text from the pdfs in the local folder.\n",
      "                      - From the full text, extract the core mathematical and scientific concepts required \n",
      "                        to understand the paper. Focus only on generalizable topics that could be included \n",
      "                        in a learning pathway or curriculum—avoid content specific to the study's location, \n",
      "                        data, or outcomes. List only the overarching topics, with no explanations or extra text.\n",
      "\n",
      "                        Take into account these constraints: ['I want to stop after downloading, and not proceed with the reading and summarising and topics. ']\n",
      "                      \u001b[0m\n",
      "\u001b[32m2025-04-11 23:04:57.488\u001b[0m | \u001b[1mINFO\u001b[0m | \u001b[38;5;39mportia.portia\u001b[0m:\u001b[38;5;39mplan\u001b[0m:\u001b[38;5;39m222\u001b[0m - \u001b[1mPlan created with 2 steps\u001b[0m | {'plan': 'plan-afac6697-2213-4cf8-9d8f-2c51ecfd4109'}\n",
      "\n",
      "Here are the updated steps in the plan:\n",
      "{\n",
      "  \"task\": \"Search for one paper on the topic 'Using LLMs for Interior Design' using the provided arxiv_tool with the given parameters.\",\n",
      "  \"inputs\": [],\n",
      "  \"tool_id\": \"arxiv_tool\",\n",
      "  \"output\": \"$arxiv_paper\",\n",
      "  \"condition\": null\n",
      "}\n",
      "{\n",
      "  \"task\": \"Download the paper using the details from the previous step's output by calling the download_tool.\",\n",
      "  \"inputs\": [\n",
      "    {\n",
      "      \"name\": \"$arxiv_paper\",\n",
      "      \"description\": \"Output from the arxiv_tool containing the paper details to download.\"\n",
      "    }\n",
      "  ],\n",
      "  \"tool_id\": \"download_tool\",\n",
      "  \"output\": \"$paper_downloaded\",\n",
      "  \"condition\": null\n",
      "}\n",
      "\u001b[32m2025-04-11 23:05:12.858\u001b[0m | \u001b[1mINFO\u001b[0m | \u001b[38;5;39mportia.portia\u001b[0m:\u001b[38;5;39mplan\u001b[0m:\u001b[38;5;39m197\u001b[0m - \u001b[1mRunning planning_agent for query - You are a research assistant running these tasks: \n",
      "                      - Find and download 1 paper on the topic of Using LLMs for Interior Design using the ArXivTool. \n",
      "                      - Run the PDFReaderTool to extract the full text from the pdfs in the local folder.\n",
      "                      - From the full text, extract the core mathematical and scientific concepts required \n",
      "                        to understand the paper. Focus only on generalizable topics that could be included \n",
      "                        in a learning pathway or curriculum—avoid content specific to the study's location, \n",
      "                        data, or outcomes. List only the overarching topics, with no explanations or extra text.\n",
      "\n",
      "                        Take into account these constraints: ['I want to stop after downloading, and not proceed with the reading and summarising and topics. ', 'I dont want to download the paper']\n",
      "                      \u001b[0m\n",
      "\u001b[32m2025-04-11 23:05:27.901\u001b[0m | \u001b[1mINFO\u001b[0m | \u001b[38;5;39mportia.portia\u001b[0m:\u001b[38;5;39mplan\u001b[0m:\u001b[38;5;39m222\u001b[0m - \u001b[1mPlan created with 1 steps\u001b[0m | {'plan': 'plan-2b9c3336-1b74-4db8-8eb5-f8181316341b'}\n",
      "\n",
      "Here are the updated steps in the plan:\n",
      "{\n",
      "  \"task\": \"Retrieve one paper on the topic 'Using LLMs for Interior Design' using the arxiv_tool, ensuring that the process stops after this retrieval without proceeding to download, reading, or summarizing the paper, in accordance with the provided constraints.\",\n",
      "  \"inputs\": [],\n",
      "  \"tool_id\": \"arxiv_tool\",\n",
      "  \"output\": \"$paper_info\",\n",
      "  \"condition\": null\n",
      "}\n",
      "\n",
      "The plan will now be executed. Please wait...\n",
      "\u001b[32m2025-04-11 23:05:36.093\u001b[0m | \u001b[1mINFO\u001b[0m | \u001b[38;5;129mportia.portia\u001b[0m:\u001b[38;5;129m_execute_plan_run\u001b[0m:\u001b[38;5;129m528\u001b[0m - \u001b[1mPlan Run State is updated to PlanRunState.IN_PROGRESS. View in your Portia AI dashboard: https://app.portialabs.ai/dashboard/plan-runs?plan_run_id=prun-82e70f07-bd34-4afd-b4a1-3be8bcaefe06\u001b[0m\n",
      "\u001b[32m2025-04-11 23:05:36.096\u001b[0m | \u001b[1mINFO\u001b[0m | \u001b[38;5;129mportia.portia\u001b[0m:\u001b[38;5;129m_execute_plan_run\u001b[0m:\u001b[38;5;129m551\u001b[0m - \u001b[1mExecuting step 0: Retrieve one paper on the topic 'Using LLMs for Interior Design' using the arxiv_tool, ensuring that the process stops after this retrieval without proceeding to download, reading, or summarizing the paper, in accordance with the provided constraints.\u001b[0m | {'plan': 'plan-2b9c3336-1b74-4db8-8eb5-f8181316341b', 'plan_run': 'prun-82e70f07-bd34-4afd-b4a1-3be8bcaefe06'}\n",
      "\u001b[32m2025-04-11 23:05:40.500\u001b[0m | \u001b[1mINFO\u001b[0m | \u001b[38;5;87mportia.tool_wrapper\u001b[0m:\u001b[38;5;87mrun\u001b[0m:\u001b[38;5;87m115\u001b[0m - \u001b[1mInvoking arXiv Tool with args: {'topic': 'Using LLMs for Interior Design', 'max_results': 1}\u001b[0m\n",
      "\u001b[32m2025-04-11 23:05:44.597\u001b[0m | \u001b[1mINFO\u001b[0m | \u001b[38;5;129mportia.portia\u001b[0m:\u001b[38;5;129m_execute_plan_run\u001b[0m:\u001b[38;5;129m588\u001b[0m - \u001b[1mStep output - [{\"title\": \"FlairGPT: Repurposing LLMs for Interior Designs\", \"summary\": \"Interior design involves the careful selection and arrangement of objects to\\ncreate an aesthetically pleasing, functional, and harmonized space that aligns\\nwith the client's design brief. This task is particularly challenging, as a\\nsuccessful design must not only incorporate all the necessary objects in a\\ncohesive style, but also ensure they are arranged in a way that maximizes\\naccessibility, while adhering to a variety of affordability and usage\\nconsiderations. Data-driven solutions have been proposed, but these are\\ntypically room- or domain-specific and lack explainability in their design\\ndesign considerations used in producing the final layout. In this paper, we\\ninvestigate if large language models (LLMs) can be directly utilized for\\ninterior design. While we find that LLMs are not yet capable of generating\\ncomplete layouts, they can be effectively leveraged in a structured manner,\\ninspired by the workflow of interior designers. By systematically probing LLMs,\\nwe can reliably generate a list of objects along with relevant constraints that\\nguide their placement. We translate this information into a design layout\\ngraph, which is then solved using an off-the-shelf constrained optimization\\nsetup to generate the final layouts. We benchmark our algorithm in various\\ndesign configurations against existing LLM-based methods and human designs, and\\nevaluate the results using a variety of quantitative and qualitative metrics\\nalong with user studies. In summary, we demonstrate that LLMs, when used in a\\nstructured manner, can effectively generate diverse high-quality layouts,\\nmaking them a viable solution for creating large-scale virtual scenes. Project\\nwebpage at https://flairgpt.github.io/\", \"link\": \"https://arxiv.org/pdf/2501.04648v1.pdf\"}]\u001b[0m\n",
      "\u001b[32m2025-04-11 23:05:49.274\u001b[0m | \u001b[1mINFO\u001b[0m | \u001b[37mportia.portia\u001b[0m:\u001b[37m_log_final_output\u001b[0m:\u001b[37m618\u001b[0m - \u001b[1mFinal output: The task was to retrieve a paper on 'Using LLMs for Interior Design' without downloading or further processing it. The paper titled \"FlairGPT: Repurposing LLMs for Interior Designs\" was identified. It explores using large language models (LLMs) to assist in interior design by generating object lists and constraints for layout creation, which are then optimized to produce final designs. The process stops at retrieval, adhering to the constraints of not downloading or analyzing the paper further.\u001b[0m\n"
     ]
    }
   ],
   "source": [
    "# Iterate on the plan with the user until they are happy with it\n",
    "ready_to_proceed = False\n",
    "while not ready_to_proceed:\n",
    "    user_input = input(\"Are you happy with the plan? (y/n):\\n\")\n",
    "    if user_input == \"y\":\n",
    "        ready_to_proceed = True\n",
    "    else:\n",
    "        user_input = input(\"Any additional guidance for the planner?:\\n\")\n",
    "        constraints.append(user_input)\n",
    "        plan = portia.plan(task())\n",
    "        print(\"\\nHere are the updated steps in the plan:\")\n",
    "        [print(step.model_dump_json(indent=2)) for step in plan.steps]\n",
    "\n",
    "# Execute the plan\n",
    "print(\"\\nThe plan will now be executed. Please wait...\")\n",
    "plan_run = portia.run_plan(plan)"
   ]
  }
 ],
 "metadata": {
  "kernelspec": {
   "display_name": "RA",
   "language": "python",
   "name": "python3"
  },
  "language_info": {
   "codemirror_mode": {
    "name": "ipython",
    "version": 3
   },
   "file_extension": ".py",
   "mimetype": "text/x-python",
   "name": "python",
   "nbconvert_exporter": "python",
   "pygments_lexer": "ipython3",
   "version": "3.11.11"
  }
 },
 "nbformat": 4,
 "nbformat_minor": 2
}
