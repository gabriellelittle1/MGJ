{
 "cells": [
  {
   "cell_type": "code",
   "execution_count": 1,
   "metadata": {},
   "outputs": [
    {
     "data": {
      "text/plain": [
       "True"
      ]
     },
     "execution_count": 1,
     "metadata": {},
     "output_type": "execute_result"
    }
   ],
   "source": [
    "from dotenv import load_dotenv\n",
    "from portia.cli import CLIExecutionHooks\n",
    "from portia import *\n",
    "import requests\n",
    "import xml.etree.ElementTree as ET\n",
    "from pydantic import BaseModel, Field\n",
    "from typing import Generic, TypeVar, List\n",
    "\n",
    "load_dotenv(override=True)"
   ]
  },
  {
   "cell_type": "code",
   "execution_count": 2,
   "metadata": {},
   "outputs": [
    {
     "name": "stdout",
     "output_type": "stream",
     "text": [
      "Semistability and CAT(0) Geometry\n",
      "http://arxiv.org/abs/1703.07003v1\n",
      "\n",
      "http://arxiv.org/abs/1703.07003v1\n",
      "✅ Downloaded 1 paper into the 'papers' folder\n"
     ]
    }
   ],
   "source": [
    "\n",
    "from my_custom_tools.arXivTool import ArXivTool\n",
    "from my_custom_tools.DownloadTool import DownloadPaperTool\n",
    "\n",
    "tool = ArXivTool()\n",
    "results = tool.run(None, topic=\"Cat\", max_results=1)\n",
    "\n",
    "for paper in results:\n",
    "    print(paper[\"title\"])\n",
    "    print(paper[\"link\"])\n",
    "    print()\n",
    "\n",
    "download_tool = DownloadPaperTool()\n",
    "message = download_tool.run(None, papers=results)\n",
    "print(message)"
   ]
  }
 ],
 "metadata": {
  "kernelspec": {
   "display_name": "RA",
   "language": "python",
   "name": "python3"
  },
  "language_info": {
   "codemirror_mode": {
    "name": "ipython",
    "version": 3
   },
   "file_extension": ".py",
   "mimetype": "text/x-python",
   "name": "python",
   "nbconvert_exporter": "python",
   "pygments_lexer": "ipython3",
   "version": "3.11.11"
  }
 },
 "nbformat": 4,
 "nbformat_minor": 2
}
