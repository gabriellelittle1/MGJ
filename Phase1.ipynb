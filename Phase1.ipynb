{
 "cells": [
  {
   "cell_type": "code",
   "execution_count": 2,
   "metadata": {},
   "outputs": [
    {
     "data": {
      "text/plain": [
       "True"
      ]
     },
     "execution_count": 2,
     "metadata": {},
     "output_type": "execute_result"
    }
   ],
   "source": [
    "from dotenv import load_dotenv\n",
    "from portia.cli import CLIExecutionHooks\n",
    "from portia import *\n",
    "import requests\n",
    "import xml.etree.ElementTree as ET\n",
    "from pydantic import BaseModel, Field\n",
    "from typing import Generic, TypeVar, List\n",
    "\n",
    "load_dotenv(override=True)"
   ]
  },
  {
   "cell_type": "code",
   "execution_count": 3,
   "metadata": {},
   "outputs": [
    {
     "name": "stdout",
     "output_type": "stream",
     "text": [
      "Towards Robotic Companions: Understanding Handler-Guide Dog Interactions\n",
      "  for Informed Guide Dog Robot Design\n",
      "http://arxiv.org/abs/2402.06790v1\n",
      "\n",
      "Haptic Information Feedback Given to Handles in Guide Dog Training\n",
      "http://arxiv.org/abs/2411.05109v1\n",
      "\n",
      "Free-ranging dogs do not distinguish between barks without context\n",
      "http://arxiv.org/abs/2001.06415v1\n",
      "\n",
      "Dust-Obscured Galaxies in the XMM-SERVS Fields: Selection,\n",
      "  Multiwavelength Characterization, and Physical Nature\n",
      "http://arxiv.org/abs/2410.18190v1\n",
      "\n",
      "System Configuration and Navigation of a Guide Dog Robot: Toward Animal\n",
      "  Guide Dog-Level Guiding Work\n",
      "http://arxiv.org/abs/2210.13368v1\n",
      "\n",
      "✅ Downloaded 5 papers into the 'papers' folder\n"
     ]
    }
   ],
   "source": [
    "from my_custom_tools.arXivTool import ArXivTool\n",
    "from my_custom_tools.DownloadTool import DownloadPaperTool\n",
    "tool = ArXivTool()\n",
    "results = tool.run(None, topic=\"Dog\")\n",
    "\n",
    "for paper in results:\n",
    "    print(paper[\"title\"])\n",
    "    print(paper[\"link\"])\n",
    "    print()\n",
    "\n",
    "download_tool = DownloadPaperTool()\n",
    "message = download_tool.run(None, papers=results)\n",
    "print(message)"
   ]
  }
 ],
 "metadata": {
  "kernelspec": {
   "display_name": "RA",
   "language": "python",
   "name": "python3"
  },
  "language_info": {
   "codemirror_mode": {
    "name": "ipython",
    "version": 3
   },
   "file_extension": ".py",
   "mimetype": "text/x-python",
   "name": "python",
   "nbconvert_exporter": "python",
   "pygments_lexer": "ipython3",
   "version": "3.11.11"
  }
 },
 "nbformat": 4,
 "nbformat_minor": 2
}
